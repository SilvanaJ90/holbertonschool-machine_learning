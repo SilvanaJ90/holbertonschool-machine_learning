{
  "nbformat": 4,
  "nbformat_minor": 0,
  "metadata": {
    "colab": {
      "provenance": [],
      "gpuType": "T4"
    },
    "kernelspec": {
      "name": "python3",
      "display_name": "Python 3"
    },
    "language_info": {
      "name": "python"
    },
    "accelerator": "GPU"
  },
  "cells": [
    {
      "cell_type": "markdown",
      "source": [
        "QA BOOT"
      ],
      "metadata": {
        "id": "WmeCyRhBrE5d"
      }
    },
    {
      "cell_type": "code",
      "source": [
        "\n",
        "import tensorflow as tf\n",
        "import tensorflow_hub as hub\n",
        "from transformers import BertTokenizer"
      ],
      "metadata": {
        "id": "H7j8cA6i6Vfp"
      },
      "execution_count": 35,
      "outputs": []
    },
    {
      "cell_type": "code",
      "source": [
        "from google.colab import drive\n",
        "drive.mount('/content/drive')"
      ],
      "metadata": {
        "colab": {
          "base_uri": "https://localhost:8080/"
        },
        "id": "D15Uqf2fj8Ui",
        "outputId": "d82a8afb-71e1-4017-9f40-41fafd7463e3"
      },
      "execution_count": 36,
      "outputs": [
        {
          "output_type": "stream",
          "name": "stdout",
          "text": [
            "Drive already mounted at /content/drive; to attempt to forcibly remount, call drive.mount(\"/content/drive\", force_remount=True).\n"
          ]
        }
      ]
    },
    {
      "cell_type": "code",
      "execution_count": 37,
      "metadata": {
        "colab": {
          "base_uri": "https://localhost:8080/"
        },
        "id": "Q_PjVCGD3FXV",
        "outputId": "8d96a6bc-a936-4c63-baea-5d771ab420f2"
      },
      "outputs": [
        {
          "output_type": "stream",
          "name": "stderr",
          "text": [
            "<>:29: SyntaxWarning: \"is\" with a literal. Did you mean \"==\"?\n",
            "<>:29: SyntaxWarning: \"is\" with a literal. Did you mean \"==\"?\n",
            "<ipython-input-37-4d98f6ab0eca>:29: SyntaxWarning: \"is\" with a literal. Did you mean \"==\"?\n",
            "  if len(answer_tokens) is 0:\n"
          ]
        }
      ],
      "source": [
        "\n",
        "\n",
        "\n",
        "def question_answer(question, reference):\n",
        "    \"\"\"\n",
        "    \"\"\"\n",
        "    tokenizer = BertTokenizer.from_pretrained('bert-large-uncased-whole-word-masking-finetuned-squad')\n",
        "\n",
        "    # Load the BERT model for question answering\n",
        "    model = hub.load(\"https://tfhub.dev/see--/bert-uncased-tf2-qa/1\")\n",
        "\n",
        "    # Tokenize the input question and reference text\n",
        "    reference_tokens = tokenizer.tokenize(reference)\n",
        "    reference_tokens += ['[SEP]']  # Add the [SEP] token to the end of the reference text\n",
        "    reference_tokens_ids = tokenizer.convert_tokens_to_ids(reference_tokens)\n",
        "\n",
        "    question_tokens = tokenizer.tokenize(question)\n",
        "    question_tokens = ['[CLS]'] + question_tokens + ['[SEP]']\n",
        "    question_tokens_ids = tokenizer.convert_tokens_to_ids(question_tokens)\n",
        "    question_tokens_ids = tokenizer.convert_tokens_to_ids(question_tokens)\n",
        "    input_ids = question_tokens_ids + reference_tokens_ids\n",
        "    input_mask = [1] * len(input_ids)\n",
        "    input_types = [0] * len(question_tokens) + [1] * len(reference_tokens)\n",
        "    input_ids, input_mask, input_types = map(\n",
        "        lambda t: tf.expand_dims(\n",
        "            tf.convert_to_tensor(t, dtype=tf.int32), 0), (input_ids, input_mask, input_types))\n",
        "    outputs = model([input_ids, input_mask, input_types])\n",
        "    short_start = tf.argmax(outputs[0][0][1:-1]) + 1\n",
        "    short_end = tf.argmax(outputs[1][0][1:-1]) + 1\n",
        "    tokens = question_tokens + reference_tokens\n",
        "    answer_tokens = tokens[short_start: short_end + 1]\n",
        "    if len(answer_tokens) is 0:\n",
        "        answer = None\n",
        "    else:\n",
        "        answer = tokenizer.convert_tokens_to_string(answer_tokens)\n",
        "    return answer"
      ]
    },
    {
      "cell_type": "code",
      "source": [
        "\n",
        "\n",
        "with open('/content/drive/MyDrive/dataset/ZendeskArticles/PeerLearningDays.md') as f:\n",
        "    reference = f.read()\n",
        "\n",
        "print(question_answer('When are PLDs?', reference))"
      ],
      "metadata": {
        "colab": {
          "base_uri": "https://localhost:8080/"
        },
        "id": "GAfpyUIp6NQv",
        "outputId": "70ff8917-995d-42f4-b0cd-875d1fe1afdc"
      },
      "execution_count": 38,
      "outputs": [
        {
          "output_type": "stream",
          "name": "stdout",
          "text": [
            "on - site days from 9 : 00 am to 3 : 00 pm\n"
          ]
        }
      ]
    },
    {
      "cell_type": "code",
      "source": [
        "\n",
        "quit = ['exit', 'quit', 'goodbye', 'bye']\n",
        "\n",
        "while True:\n",
        "    question = input('Q: ').lower()\n",
        "    if question in quit:\n",
        "        print('A: Goodbye')\n",
        "        break\n",
        "    print('A:')\n"
      ],
      "metadata": {
        "colab": {
          "base_uri": "https://localhost:8080/"
        },
        "id": "lB2N5_vAVTRd",
        "outputId": "df91f983-3d3e-4949-a84e-9db3ced33c13"
      },
      "execution_count": 39,
      "outputs": [
        {
          "output_type": "stream",
          "name": "stdout",
          "text": [
            "Q: Hello\n",
            "A:\n",
            "Q:  How are you?\n",
            "A:\n",
            "Q: BYE\n",
            "A: Goodbye\n"
          ]
        }
      ]
    },
    {
      "cell_type": "code",
      "source": [
        "\n",
        "tokenizer = BertTokenizer.from_pretrained('bert-large-uncased-whole-word-masking-finetuned-squad')\n",
        "\n",
        "# Load the BERT model for question answering\n",
        "model = hub.load(\"https://tfhub.dev/see--/bert-uncased-tf2-qa/1\")\n",
        "\n",
        "\n",
        "def answer_loop(reference):\n",
        "    \"\"\" Tokenize the input question and reference text \"\"\"\n",
        "    reference_tokens = tokenizer.tokenize(reference)\n",
        "    reference_tokens += ['[SEP]']  # Add the [SEP] token to the end of the reference text\n",
        "    reference_tokens_ids = tokenizer.convert_tokens_to_ids(reference_tokens)\n",
        "\n",
        "    def get_answer(question):\n",
        "      \"\"\"\n",
        "      \"\"\"\n",
        "      question_tokens = tokenizer.tokenize(question)\n",
        "      question_tokens = ['[CLS]'] + question_tokens + ['[SEP]']\n",
        "      question_tokens_ids = tokenizer.convert_tokens_to_ids(question_tokens)\n",
        "      question_tokens_ids = tokenizer.convert_tokens_to_ids(question_tokens)\n",
        "      input_ids = question_tokens_ids + reference_tokens_ids\n",
        "      input_mask = [1] * len(input_ids)\n",
        "      input_types = [0] * len(question_tokens) + [1] * len(reference_tokens)\n",
        "      input_ids, input_mask, input_types = map(\n",
        "          lambda t: tf.expand_dims(\n",
        "              tf.convert_to_tensor(t, dtype=tf.int32), 0), (input_ids, input_mask, input_types))\n",
        "      outputs = model([input_ids, input_mask, input_types])\n",
        "      short_start = tf.argmax(outputs[0][0][1:-1]) + 1\n",
        "      short_end = tf.argmax(outputs[1][0][1:-1]) + 1\n",
        "      tokens = question_tokens + reference_tokens\n",
        "      answer_tokens = tokens[short_start: short_end + 1]\n",
        "      if len(answer_tokens) is 0:\n",
        "          answer = None\n",
        "      else:\n",
        "          answer = tokenizer.convert_tokens_to_string(answer_tokens)\n",
        "      return answer\n",
        "\n",
        "    quit = ['exit', 'quit', 'goodbye', 'bye']\n",
        "    while True:\n",
        "        question = input('Q: ')\n",
        "        if question.lower() in quit:\n",
        "            print('A: Goodbye')\n",
        "            break\n",
        "        answer = get_answer(question)\n",
        "        if answer is None:\n",
        "            print('A: Sorry, I do not understand your question.')\n",
        "        else:\n",
        "            print('A:', answer)"
      ],
      "metadata": {
        "colab": {
          "base_uri": "https://localhost:8080/"
        },
        "id": "8R2NWufZck-P",
        "outputId": "a03df414-e218-423b-a29b-2d6ebb34b1d2"
      },
      "execution_count": 40,
      "outputs": [
        {
          "output_type": "stream",
          "name": "stderr",
          "text": [
            "<>:31: SyntaxWarning: \"is\" with a literal. Did you mean \"==\"?\n",
            "<>:31: SyntaxWarning: \"is\" with a literal. Did you mean \"==\"?\n",
            "<ipython-input-40-8f28eb9dc2b7>:31: SyntaxWarning: \"is\" with a literal. Did you mean \"==\"?\n",
            "  if len(answer_tokens) is 0:\n"
          ]
        }
      ]
    },
    {
      "cell_type": "code",
      "source": [
        "\n",
        "with open('/content/drive/MyDrive/dataset/ZendeskArticles/PeerLearningDays.md') as f:\n",
        "    reference = f.read()\n",
        "\n",
        "answer_loop(reference)"
      ],
      "metadata": {
        "colab": {
          "base_uri": "https://localhost:8080/"
        },
        "id": "jC3ojr-YfHHK",
        "outputId": "3deeb1e1-7cde-49f7-de45-8ee3bd31f232"
      },
      "execution_count": 41,
      "outputs": [
        {
          "output_type": "stream",
          "name": "stdout",
          "text": [
            "Q:  When are PLDs?\n",
            "A: on - site days from 9 : 00 am to 3 : 00 pm\n",
            "Q: What are Mock Interviews?\n",
            "A: Sorry, I do not understand your question.\n",
            "Q:  What does PLD stand for?\n",
            "A: peer learning days\n",
            "Q: EXIT\n",
            "A: Goodbye\n"
          ]
        }
      ]
    },
    {
      "cell_type": "code",
      "source": [
        "\n",
        "import os\n",
        "import numpy as np\n",
        "\n",
        "def semantic_search(corpus_path, sentence):\n",
        "    \"\"\"\n",
        "\n",
        "    - corpus_path is the path to the corpus of reference\n",
        "        documents on which to perform semantic search\n",
        "    - sentence is the sentence from which to perform semantic search\n",
        "    Returns: the reference text of the document most similar to sentence\n",
        "    \"\"\"\n",
        "    reference = []\n",
        "    reference.append(sentence)\n",
        "    dirs = os.listdir(corpus_path)\n",
        "    for file in dirs:\n",
        "        if not file.endswith('.md'):\n",
        "            continue\n",
        "        with open(corpus_path+'/'+file, 'r', encoding='utf-8') as f:\n",
        "            reference.append(f.read())\n",
        "    e = hub.load(\"https://tfhub.dev/google/universal-sentence-encoder-large/5\")\n",
        "    embeddings = e(reference)\n",
        "    corr = np.inner(embeddings, embeddings)\n",
        "    close = np.argmax(corr[0, 1:])\n",
        "    return reference[close + 1]\n",
        "\n"
      ],
      "metadata": {
        "id": "WEecPon4oNxc"
      },
      "execution_count": 42,
      "outputs": []
    },
    {
      "cell_type": "code",
      "source": [
        "print(semantic_search('/content/drive/MyDrive/dataset/ZendeskArticles', 'When are PLDs?'))"
      ],
      "metadata": {
        "colab": {
          "base_uri": "https://localhost:8080/"
        },
        "id": "xeant7FgrMqQ",
        "outputId": "33442b33-5000-4d8f-fbe7-7dbedd6a70fa"
      },
      "execution_count": 43,
      "outputs": [
        {
          "output_type": "stream",
          "name": "stdout",
          "text": [
            "PLD Overview\n",
            "Peer Learning Days (PLDs) are a time for you and your peers to ensure that each of you understands the concepts you've encountered in your projects, as well as a time for everyone to collectively grow in technical, professional, and soft skills. During PLD, you will collaboratively review prior projects with a group of cohort peers.\n",
            "PLD Basics\n",
            "PLDs are mandatory on-site days from 9:00 AM to 3:00 PM. If you cannot be present or on time, you must use a PTO. \n",
            "No laptops, tablets, or screens are allowed until all tasks have been whiteboarded and understood by the entirety of your group. This time is for whiteboarding, dialogue, and active peer collaboration. After this, you may return to computers with each other to pair or group program. \n",
            "Peer Learning Days are not about sharing solutions. This doesn't empower peers with the ability to solve problems themselves! Peer learning is when you share your thought process, whether through conversation, whiteboarding, debugging, or live coding. \n",
            "When a peer has a question, rather than offering the solution, ask the following:\n",
            "\"How did you come to that conclusion?\"\n",
            "\"What have you tried?\"\n",
            "\"Did the man page give you a lead?\"\n",
            "\"Did you think about this concept?\"\n",
            "Modeling this form of thinking for one another is invaluable and will strengthen your entire cohort.\n",
            "Your ability to articulate your knowledge is a crucial skill and will be required to succeed during technical interviews and through your career. \n",
            "\n"
          ]
        }
      ]
    },
    {
      "cell_type": "code",
      "source": [
        "def qa(coprus_path):\n",
        "  w = ['exit', 'quit', 'goodbye', 'bye']\n",
        "  while 1:\n",
        "      question = input('Q: ')\n",
        "      if question.lower() in w:\n",
        "          print('A: Goodbye')\n",
        "          break\n",
        "      else:\n",
        "        reference = semantic_search(coprus_path, question)\n",
        "        answer = question_answer(question, reference)\n",
        "        if answer is None or answer == '':\n",
        "            print('A: Sorry, I do not understand your question.')\n",
        "        else:\n",
        "            print('A: {}'.format(answer))"
      ],
      "metadata": {
        "id": "LSuAipZNkdb7"
      },
      "execution_count": 44,
      "outputs": []
    },
    {
      "cell_type": "code",
      "source": [
        "qa('/content/drive/MyDrive/dataset/ZendeskArticles')"
      ],
      "metadata": {
        "colab": {
          "base_uri": "https://localhost:8080/"
        },
        "id": "jnd5vSRgmFVv",
        "outputId": "575e3130-c3e0-4ca3-8d98-5902b6538a80"
      },
      "execution_count": 46,
      "outputs": [
        {
          "output_type": "stream",
          "name": "stdout",
          "text": [
            "Q: When are PLDs?\n",
            "A: on - site days from 9 : 00 am to 3 : 00 pm\n",
            "Q: What are Mock Interviews?\n",
            "A: help you train for technical interviews\n",
            "Q: What does PLD stand for?\n",
            "A: peer learning days\n",
            "Q: GOODBYE\n",
            "A: Goodbye\n"
          ]
        }
      ]
    }
  ]
}